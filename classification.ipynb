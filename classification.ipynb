{
 "cells": [
  {
   "cell_type": "markdown",
   "metadata": {
    "deletable": false,
    "editable": false,
    "nbgrader": {
     "cell_type": "markdown",
     "checksum": "462e84dce6cc59da8cf692c7afb947fb",
     "grade": false,
     "grade_id": "cell-9e982d5757397d17",
     "locked": true,
     "schema_version": 3,
     "solution": false,
     "task": false
    }
   },
   "source": [
    "## Homework 2 -  Classification\n",
    "***\n",
    "**Name**: $<$insert name here$>$ \n",
    "***\n",
    "\n",
    "Remember that you are encouraged to discuss the problems with your instructors and classmates, but **you must write all code and solutions on your own**."
   ]
  },
  {
   "cell_type": "markdown",
   "metadata": {
    "deletable": false,
    "editable": false,
    "nbgrader": {
     "cell_type": "markdown",
     "checksum": "1b8b5fbebe15adffeb7e4ffb348dd312",
     "grade": false,
     "grade_id": "cell-9c14fe8b7cedca4b",
     "locked": true,
     "schema_version": 3,
     "solution": false,
     "task": false
    }
   },
   "source": [
    "The rules to be followed for the assignment are:\n",
    "\n",
    "- Do **NOT** load additional packages beyond what we've shared in the cells below.\n",
    "- Some problems with code may be autograded.  If we provide a function or class API **do not** change it.\n",
    "- Do not change the location of the data or data directory.  Use only relative paths to access the data."
   ]
  },
  {
   "cell_type": "code",
   "execution_count": 1,
   "metadata": {
    "deletable": false,
    "editable": false,
    "nbgrader": {
     "cell_type": "code",
     "checksum": "01007295310f323658ea09500447eb71",
     "grade": false,
     "grade_id": "cell-45d9e7721034be56",
     "locked": true,
     "schema_version": 3,
     "solution": false,
     "task": false
    }
   },
   "outputs": [],
   "source": [
    "import argparse\n",
    "import pandas as pd\n",
    "import numpy as np\n",
    "import pickle\n",
    "from pathlib import Path\n",
    "from collections import defaultdict"
   ]
  },
  {
   "cell_type": "markdown",
   "metadata": {
    "deletable": false,
    "editable": false,
    "nbgrader": {
     "cell_type": "markdown",
     "checksum": "c5dc56ea000a733dd06e37d48b9a16fd",
     "grade": false,
     "grade_id": "cell-af752c2b34428286",
     "locked": true,
     "schema_version": 3,
     "solution": false,
     "task": false
    }
   },
   "source": [
    "### [10 points] Problem 1 - Building a Decision Tree\n",
    "***\n",
    "\n",
    "A sample dataset has been provided to you in the './data/dataset.csv' path. Here are the attributes for the dataset. Use this dataset to test your functions.\n",
    "\n",
    "- Age - [\"<=30\", \"31-40\", \">40\"]\n",
    "- Income - [\"low\", \"medium\", \"high\"]\n",
    "- Student - [\"no\", \"yes\"]\n",
    "- Credit Rating - [\"fair\", \"excellent\"]\n",
    "- Loan - [\"no\", \"yes\"]\n",
    "\n",
    "Note:\n",
    "- A sample dataset to test your code has been provided in the location \"data/dataset.csv\". Please maintain this as it would be necessary while grading.\n",
    "- Do not change the variable names of the returned values.\n",
    "- After calculating each of those values, assign them to the corresponding value that is being returned.\n",
    "- The \"Loan\" attribute should be used as the target variable while making calculations for your decision tree."
   ]
  },
  {
   "cell_type": "code",
   "execution_count": 2,
   "metadata": {
    "deletable": false,
    "nbgrader": {
     "cell_type": "code",
     "checksum": "a300bd3e85f8415dc5459f67a071a47a",
     "grade": false,
     "grade_id": "cell-61181ec0d8dd26b7",
     "locked": false,
     "schema_version": 3,
     "solution": true,
     "task": false
    }
   },
   "outputs": [
    {
     "data": {
      "text/plain": [
       "0.9798687566511528"
      ]
     },
     "execution_count": 2,
     "metadata": {},
     "output_type": "execute_result"
    }
   ],
   "source": [
    "import math\n",
    "import pandas as pd\n",
    "\n",
    "def information_gain_target(dataset_file): \n",
    "    \n",
    "#        Input: dataset_file - A string variable which references the path to the dataset file.\n",
    "#        Output: ig_loan - A floating point variable which holds the information entropy associated with the target variable.\n",
    "#        \n",
    "#        NOTE: \n",
    "#        1. Return the information gain associated with the target variable in the dataset.\n",
    "#        2. The Loan attribute is the target variable\n",
    "#        3. The pandas dataframe has the following attributes: Age, Income, Student, Credit Rating, Loan\n",
    "#        4. Perform your calculations for information gain and assign it to the variable ig_loan\n",
    "\n",
    "\n",
    "    df = pd.read_csv(dataset_file)\n",
    "    ig_loan = 0\n",
    "    \n",
    "    # your code here\n",
    "    \n",
    "    total_count = len(df)\n",
    "    yes_count = len(df[df['Loan'] == 'yes'])\n",
    "    no_count = len(df[df['Loan'] == 'no'])\n",
    "    \n",
    "    if yes_count == 0 or no_count == 0:\n",
    "        ig_loan = 0\n",
    "    else:\n",
    "        p_yes = yes_count / total_count\n",
    "        p_no = no_count / total_count\n",
    "        ig_loan = - (p_yes * math.log2(p_yes) + p_no * math.log2(p_no))\n",
    "        \n",
    "    return ig_loan\n",
    "\n",
    "information_gain_target('data/dataset.csv')\n"
   ]
  },
  {
   "cell_type": "code",
   "execution_count": 3,
   "metadata": {
    "deletable": false,
    "editable": false,
    "nbgrader": {
     "cell_type": "code",
     "checksum": "4abccde1bb451cbd38c84288ac51b23c",
     "grade": true,
     "grade_id": "cell-831583db0fac12a6",
     "locked": true,
     "points": 5,
     "schema_version": 3,
     "solution": false,
     "task": false
    }
   },
   "outputs": [],
   "source": [
    "\n",
    "# This cell has hidden test cases that will run after you submit your assignment. \n"
   ]
  },
  {
   "cell_type": "code",
   "execution_count": 4,
   "metadata": {
    "deletable": false,
    "editable": false,
    "nbgrader": {
     "cell_type": "code",
     "checksum": "f18214f9c165a7a62c9ec06f898e46d2",
     "grade": false,
     "grade_id": "cell-2d91bfae58ea0c8e",
     "locked": true,
     "schema_version": 3,
     "solution": false,
     "task": false
    }
   },
   "outputs": [],
   "source": [
    "attribute_values = {\n",
    "    \"Age\": [\"<=30\", \"31-40\", \">40\"],\n",
    "    \"Income\": [\"low\", \"medium\", \"high\"],\n",
    "    \"Student\": [\"yes\", \"no\"],\n",
    "    \"Credit Rating\": [\"fair\", \"excellent\"]\n",
    "}\n",
    "\n",
    "attributes = [\"Age\", \"Income\", \"Student\", \"Credit Rating\"]"
   ]
  },
  {
   "cell_type": "code",
   "execution_count": 5,
   "metadata": {
    "deletable": false,
    "nbgrader": {
     "cell_type": "code",
     "checksum": "77bbcd26dcf0274a70d84565e82683c9",
     "grade": false,
     "grade_id": "cell-dbd31d0b008467ae",
     "locked": false,
     "schema_version": 3,
     "solution": true,
     "task": false
    }
   },
   "outputs": [],
   "source": [
    "def information_gain(p_count_yes, p_count_no):\n",
    "    \n",
    "#   A helper function that returns the information gain when given counts of number of yes and no values. \n",
    "#   Please complete this function before you proceed to the information_gain_attributes function below.\n",
    "    \n",
    "    # your code here\n",
    "    total_count = p_count_yes + p_count_no\n",
    "    p_yes = p_count_yes / total_count\n",
    "    p_no = p_count_no / total_count\n",
    "\n",
    "    if p_yes == 0 or p_no == 0:\n",
    "        return 0\n",
    "\n",
    "    ig = -(p_yes * math.log2(p_yes)) - (p_no * math.log2(p_no))\n",
    "    \n",
    "    return ig"
   ]
  },
  {
   "cell_type": "code",
   "execution_count": 6,
   "metadata": {
    "deletable": false,
    "nbgrader": {
     "cell_type": "code",
     "checksum": "c985845505f6d46268dcfcf6284d88ce",
     "grade": false,
     "grade_id": "cell-540b05dbe445a68b",
     "locked": false,
     "schema_version": 3,
     "solution": true,
     "task": false
    }
   },
   "outputs": [],
   "source": [
    "import operator\n",
    "\n",
    "def information_gain_attributes(dataset_file, ig_loan, attributes, attribute_values):\n",
    "    \n",
    "#        Input: \n",
    "#            1. dataset_file - A string variable which references the path to the dataset file.\n",
    "#            2. ig_loan - A floating point variable representing the information gain of the target variable \"Loan\".\n",
    "#            3. attributes - A python list which has all the attributes of the dataset\n",
    "#            4. attribute_values - A python dictionary representing the values each attribute can hold.\n",
    "#            \n",
    "#        Output: results - A python dictionary representing the information gain associated with each variable.\n",
    "#            1. ig_attributes - A sub dictionary representing the information gain for each attribute.\n",
    "#            2. best_attribute - Returns the attribute which has the highest information gain.\n",
    "#        \n",
    "#        NOTE: \n",
    "#        1. The Loan attribute is the target variable\n",
    "#        2. The pandas dataframe has the following attributes: Age, Income, Student, Credit Rating, Loan\n",
    "    \n",
    "    results = {\n",
    "        \"ig_attributes\": {\n",
    "            \"Age\": 0,\n",
    "            \"Income\": 0,\n",
    "            \"Student\": 0,\n",
    "            \"Credit Rating\": 0\n",
    "        },\n",
    "        \"best_attribute\": \"\"\n",
    "    }\n",
    "    \n",
    "            \n",
    "    df = pd.read_csv(dataset_file)\n",
    "    d_range = len(df)\n",
    "\n",
    "    for attribute in attributes:\n",
    "        attribute_values_list = attribute_values[attribute]\n",
    "        attribute_entropy = 0\n",
    "\n",
    "        for value in attribute_values_list:\n",
    "            value_count = len(df[df[attribute] == value])\n",
    "            value_loan_counts = df[df[attribute] == value]['Loan'].value_counts()\n",
    "\n",
    "            p_yes = value_loan_counts.get('yes', 0)\n",
    "            p_no = value_loan_counts.get('no', 0)\n",
    "\n",
    "            attribute_entropy += (value_count / d_range) * information_gain(p_yes, p_no)            \n",
    "        \n",
    "        results[\"ig_attributes\"][attribute] = ig_loan - attribute_entropy\n",
    "        \n",
    "    \n",
    "    results[\"best_attribute\"] = max(results[\"ig_attributes\"].items(), key=operator.itemgetter(1))[0]\n",
    "    return results"
   ]
  },
  {
   "cell_type": "code",
   "execution_count": 7,
   "metadata": {},
   "outputs": [
    {
     "name": "stdout",
     "output_type": "stream",
     "text": [
      "{'ig_attributes': {'Age': 0.2419726756283742, 'Income': 0.012398717114751934, 'Student': 0.19570962879973097, 'Credit Rating': 0.07181901063117269}, 'best_attribute': 'Age'}\n"
     ]
    }
   ],
   "source": [
    "dataset_file = 'data/dataset.csv'\n",
    "ig_loan = information_gain_target(dataset_file)\n",
    "attributes = [\"Age\", \"Income\", \"Student\", \"Credit Rating\"]\n",
    "attribute_values = {\n",
    "    \"Age\": [\"<=30\", \"31-40\", \">40\"],\n",
    "    \"Income\": [\"low\", \"medium\", \"high\"],\n",
    "    \"Student\": [\"yes\", \"no\"],\n",
    "    \"Credit Rating\": [\"fair\", \"excellent\"]\n",
    "}\n",
    "\n",
    "results = information_gain_attributes(dataset_file, ig_loan, attributes, attribute_values)\n",
    "print(results)"
   ]
  },
  {
   "cell_type": "code",
   "execution_count": 8,
   "metadata": {
    "deletable": false,
    "editable": false,
    "nbgrader": {
     "cell_type": "code",
     "checksum": "e22399a14e54fc2a36a46cce5fb475e5",
     "grade": true,
     "grade_id": "cell-dd2742d4c14f088e",
     "locked": true,
     "points": 5,
     "schema_version": 3,
     "solution": false,
     "task": false
    }
   },
   "outputs": [],
   "source": [
    "\n",
    "# This cell has hidden test cases that will run after you submit your assignment. \n"
   ]
  },
  {
   "cell_type": "markdown",
   "metadata": {
    "deletable": false,
    "editable": false,
    "nbgrader": {
     "cell_type": "markdown",
     "checksum": "37c9c814aef3c2a4651202ceab883888",
     "grade": false,
     "grade_id": "cell-d02bc39e9c144563",
     "locked": true,
     "schema_version": 3,
     "solution": false,
     "task": false
    }
   },
   "source": [
    "### [10 points] Problem 2 - Building a Naive Bayes Classifier\n",
    "***\n",
    "\n",
    "A sample dataset has been provided to you in the './data/dataset.csv' path. Here are the attributes for the dataset. Use this dataset to test your functions.\n",
    "\n",
    "- Age - [\"<=30\", \"31-40\", \">40\"]\n",
    "- Income - [\"low\", \"medium\", \"high\"]\n",
    "- Student - [\"no\", \"yes\"]\n",
    "- Credit Rating - [\"fair\", \"excellent\"]\n",
    "- Loan - [\"no\", \"yes\"]\n",
    "\n",
    "Note:\n",
    "- A sample dataset to test your code has been provided in the location \"data/dataset.csv\". Please maintain this as it would be necessary while grading.\n",
    "- Do not change the variable names of the returned values.\n",
    "- After calculating each of those values, assign them to the corresponding value that is being returned.\n",
    "- The \"Loan\" attribute should be used as the target variable while making calculations for your naive bayes classifier."
   ]
  },
  {
   "cell_type": "code",
   "execution_count": 9,
   "metadata": {
    "deletable": false,
    "nbgrader": {
     "cell_type": "code",
     "checksum": "d97b494935c0320f275b19a7d90543c4",
     "grade": false,
     "grade_id": "cell-0d7104243d876943",
     "locked": false,
     "schema_version": 3,
     "solution": true,
     "task": false
    }
   },
   "outputs": [],
   "source": [
    "from collections import defaultdict\n",
    "\n",
    "def naive_bayes(dataset_file, attributes, attribute_values):\n",
    "\n",
    "#   Input:\n",
    "#       1. dataset_file - A string variable which references the path to the dataset file.\n",
    "#       2. attributes - A python list which has all the attributes of the dataset\n",
    "#       3. attribute_values - A python dictionary representing the values each attribute can hold.\n",
    "#        \n",
    "#   Output: A probabilities dictionary which contains the values of when the input attribute is yes or no\n",
    "#       depending on the corresponding Loan attribute.\n",
    "#                \n",
    "#   Hint: Starter code has been provided to you to calculate the probabilities.\n",
    "\n",
    "    probabilities = {\n",
    "        \"Age\": { \"<=30\": {\"yes\": 0, \"no\": 0}, \"31-40\": {\"yes\": 0, \"no\": 0}, \">40\": {\"yes\": 0, \"no\": 0} },\n",
    "        \"Income\": { \"low\": {\"yes\": 0, \"no\": 0}, \"medium\": {\"yes\": 0, \"no\": 0}, \"high\": {\"yes\": 0, \"no\": 0}},\n",
    "        \"Student\": { \"yes\": {\"yes\": 0, \"no\": 0}, \"no\": {\"yes\": 0, \"no\": 0} },\n",
    "        \"Credit Rating\": { \"fair\": {\"yes\": 0, \"no\": 0}, \"excellent\": {\"yes\": 0, \"no\": 0} },\n",
    "        \"Loan\": {\"yes\": 0, \"no\": 0}\n",
    "    }\n",
    "    \n",
    "    df = pd.read_csv(dataset_file)\n",
    "    d_range = len(df)\n",
    "    \n",
    "    vcount = df[\"Loan\"].value_counts()\n",
    "    vcount_loan_yes = vcount[\"yes\"]\n",
    "    vcount_loan_no = vcount[\"no\"]\n",
    "    \n",
    "    probabilities[\"Loan\"][\"yes\"] = vcount_loan_yes/d_range\n",
    "    probabilities[\"Loan\"][\"no\"] = vcount_loan_no/d_range\n",
    "    \n",
    "    for attribute in attributes:\n",
    "        value_counts = dict()\n",
    "        vcount = df[attribute].value_counts()\n",
    "        for att_value in attribute_values[attribute]:\n",
    "            \n",
    "            # your code here\n",
    "\n",
    "            filtered_df_yes = df[df[\"Loan\"] == \"yes\"]\n",
    "            num_yes = len(filtered_df_yes[filtered_df_yes[attribute] == att_value])\n",
    "            filtered_range_yes = len(filtered_df_yes)\n",
    "            \n",
    "            filtered_df_no = df[df[\"Loan\"] == \"no\"]\n",
    "            num_no = len(filtered_df_no[filtered_df_no[attribute] == att_value])\n",
    "            filtered_range_no = len(filtered_df_no)\n",
    "            \n",
    "            \n",
    "            probabilities[attribute][att_value][\"yes\"] = num_yes/filtered_range_yes\n",
    "            probabilities[attribute][att_value][\"no\"] = num_no/filtered_range_no\n",
    "    \n",
    "    return probabilities"
   ]
  },
  {
   "cell_type": "code",
   "execution_count": 10,
   "metadata": {
    "deletable": false,
    "editable": false,
    "nbgrader": {
     "cell_type": "code",
     "checksum": "c65d272ca5920fc09bf99a8c9b9d9ff4",
     "grade": true,
     "grade_id": "cell-1029d20562b90189",
     "locked": true,
     "points": 10,
     "schema_version": 3,
     "solution": false,
     "task": false
    }
   },
   "outputs": [],
   "source": [
    "\n",
    "# This cell has hidden test cases that will run after you submit your assignment. \n"
   ]
  },
  {
   "cell_type": "code",
   "execution_count": null,
   "metadata": {},
   "outputs": [],
   "source": []
  }
 ],
 "metadata": {
  "kernelspec": {
   "display_name": "Python 3",
   "language": "python",
   "name": "python3"
  },
  "language_info": {
   "codemirror_mode": {
    "name": "ipython",
    "version": 3
   },
   "file_extension": ".py",
   "mimetype": "text/x-python",
   "name": "python",
   "nbconvert_exporter": "python",
   "pygments_lexer": "ipython3",
   "version": "3.7.6"
  }
 },
 "nbformat": 4,
 "nbformat_minor": 5
}
